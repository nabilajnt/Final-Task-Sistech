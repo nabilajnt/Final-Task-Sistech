{
  "nbformat": 4,
  "nbformat_minor": 0,
  "metadata": {
    "colab": {
      "provenance": []
    },
    "kernelspec": {
      "name": "python3",
      "display_name": "Python 3"
    },
    "language_info": {
      "name": "python"
    }
  },
  "cells": [
    {
      "cell_type": "markdown",
      "source": [
        "###FINAL TASK\n",
        "Nabila Janatri Iswibowo"
      ],
      "metadata": {
        "id": "DUc5L537unIO"
      }
    },
    {
      "cell_type": "markdown",
      "source": [
        "###DATA INPUT"
      ],
      "metadata": {
        "id": "oFRc_VWDu6RO"
      }
    },
    {
      "cell_type": "code",
      "execution_count": 29,
      "metadata": {
        "id": "g-oaVB9MdUQ3"
      },
      "outputs": [],
      "source": [
        "import pandas as pd\n",
        "import numpy as np\n",
        "import seaborn as sns\n",
        "import matplotlib.pyplot as plt\n",
        "from sklearn.impute import SimpleImputer\n",
        "from sklearn.preprocessing import StandardScaler\n",
        "from sklearn.cluster import KMeans"
      ]
    },
    {
      "cell_type": "code",
      "source": [
        "import warnings\n",
        "warnings.simplefilter('ignore')"
      ],
      "metadata": {
        "id": "xAMvTtqodcoc"
      },
      "execution_count": 30,
      "outputs": []
    },
    {
      "cell_type": "code",
      "source": [
        "from google.colab import files\n",
        "uploaded = files.upload()\n",
        "df = pd.read_excel(\"Customer Reviews - Kopi Kenangan.xlsx\")\n",
        "df.head()"
      ],
      "metadata": {
        "colab": {
          "base_uri": "https://localhost:8080/",
          "height": 812
        },
        "id": "0xtg5QN5dhP5",
        "outputId": "cfe1dda7-827d-4115-e1ee-dad4840d6dc9"
      },
      "execution_count": 31,
      "outputs": [
        {
          "output_type": "display_data",
          "data": {
            "text/plain": [
              "<IPython.core.display.HTML object>"
            ],
            "text/html": [
              "\n",
              "     <input type=\"file\" id=\"files-661ca43b-b1bb-4a0b-b8df-63cb02b4a75e\" name=\"files[]\" multiple disabled\n",
              "        style=\"border:none\" />\n",
              "     <output id=\"result-661ca43b-b1bb-4a0b-b8df-63cb02b4a75e\">\n",
              "      Upload widget is only available when the cell has been executed in the\n",
              "      current browser session. Please rerun this cell to enable.\n",
              "      </output>\n",
              "      <script>// Copyright 2017 Google LLC\n",
              "//\n",
              "// Licensed under the Apache License, Version 2.0 (the \"License\");\n",
              "// you may not use this file except in compliance with the License.\n",
              "// You may obtain a copy of the License at\n",
              "//\n",
              "//      http://www.apache.org/licenses/LICENSE-2.0\n",
              "//\n",
              "// Unless required by applicable law or agreed to in writing, software\n",
              "// distributed under the License is distributed on an \"AS IS\" BASIS,\n",
              "// WITHOUT WARRANTIES OR CONDITIONS OF ANY KIND, either express or implied.\n",
              "// See the License for the specific language governing permissions and\n",
              "// limitations under the License.\n",
              "\n",
              "/**\n",
              " * @fileoverview Helpers for google.colab Python module.\n",
              " */\n",
              "(function(scope) {\n",
              "function span(text, styleAttributes = {}) {\n",
              "  const element = document.createElement('span');\n",
              "  element.textContent = text;\n",
              "  for (const key of Object.keys(styleAttributes)) {\n",
              "    element.style[key] = styleAttributes[key];\n",
              "  }\n",
              "  return element;\n",
              "}\n",
              "\n",
              "// Max number of bytes which will be uploaded at a time.\n",
              "const MAX_PAYLOAD_SIZE = 100 * 1024;\n",
              "\n",
              "function _uploadFiles(inputId, outputId) {\n",
              "  const steps = uploadFilesStep(inputId, outputId);\n",
              "  const outputElement = document.getElementById(outputId);\n",
              "  // Cache steps on the outputElement to make it available for the next call\n",
              "  // to uploadFilesContinue from Python.\n",
              "  outputElement.steps = steps;\n",
              "\n",
              "  return _uploadFilesContinue(outputId);\n",
              "}\n",
              "\n",
              "// This is roughly an async generator (not supported in the browser yet),\n",
              "// where there are multiple asynchronous steps and the Python side is going\n",
              "// to poll for completion of each step.\n",
              "// This uses a Promise to block the python side on completion of each step,\n",
              "// then passes the result of the previous step as the input to the next step.\n",
              "function _uploadFilesContinue(outputId) {\n",
              "  const outputElement = document.getElementById(outputId);\n",
              "  const steps = outputElement.steps;\n",
              "\n",
              "  const next = steps.next(outputElement.lastPromiseValue);\n",
              "  return Promise.resolve(next.value.promise).then((value) => {\n",
              "    // Cache the last promise value to make it available to the next\n",
              "    // step of the generator.\n",
              "    outputElement.lastPromiseValue = value;\n",
              "    return next.value.response;\n",
              "  });\n",
              "}\n",
              "\n",
              "/**\n",
              " * Generator function which is called between each async step of the upload\n",
              " * process.\n",
              " * @param {string} inputId Element ID of the input file picker element.\n",
              " * @param {string} outputId Element ID of the output display.\n",
              " * @return {!Iterable<!Object>} Iterable of next steps.\n",
              " */\n",
              "function* uploadFilesStep(inputId, outputId) {\n",
              "  const inputElement = document.getElementById(inputId);\n",
              "  inputElement.disabled = false;\n",
              "\n",
              "  const outputElement = document.getElementById(outputId);\n",
              "  outputElement.innerHTML = '';\n",
              "\n",
              "  const pickedPromise = new Promise((resolve) => {\n",
              "    inputElement.addEventListener('change', (e) => {\n",
              "      resolve(e.target.files);\n",
              "    });\n",
              "  });\n",
              "\n",
              "  const cancel = document.createElement('button');\n",
              "  inputElement.parentElement.appendChild(cancel);\n",
              "  cancel.textContent = 'Cancel upload';\n",
              "  const cancelPromise = new Promise((resolve) => {\n",
              "    cancel.onclick = () => {\n",
              "      resolve(null);\n",
              "    };\n",
              "  });\n",
              "\n",
              "  // Wait for the user to pick the files.\n",
              "  const files = yield {\n",
              "    promise: Promise.race([pickedPromise, cancelPromise]),\n",
              "    response: {\n",
              "      action: 'starting',\n",
              "    }\n",
              "  };\n",
              "\n",
              "  cancel.remove();\n",
              "\n",
              "  // Disable the input element since further picks are not allowed.\n",
              "  inputElement.disabled = true;\n",
              "\n",
              "  if (!files) {\n",
              "    return {\n",
              "      response: {\n",
              "        action: 'complete',\n",
              "      }\n",
              "    };\n",
              "  }\n",
              "\n",
              "  for (const file of files) {\n",
              "    const li = document.createElement('li');\n",
              "    li.append(span(file.name, {fontWeight: 'bold'}));\n",
              "    li.append(span(\n",
              "        `(${file.type || 'n/a'}) - ${file.size} bytes, ` +\n",
              "        `last modified: ${\n",
              "            file.lastModifiedDate ? file.lastModifiedDate.toLocaleDateString() :\n",
              "                                    'n/a'} - `));\n",
              "    const percent = span('0% done');\n",
              "    li.appendChild(percent);\n",
              "\n",
              "    outputElement.appendChild(li);\n",
              "\n",
              "    const fileDataPromise = new Promise((resolve) => {\n",
              "      const reader = new FileReader();\n",
              "      reader.onload = (e) => {\n",
              "        resolve(e.target.result);\n",
              "      };\n",
              "      reader.readAsArrayBuffer(file);\n",
              "    });\n",
              "    // Wait for the data to be ready.\n",
              "    let fileData = yield {\n",
              "      promise: fileDataPromise,\n",
              "      response: {\n",
              "        action: 'continue',\n",
              "      }\n",
              "    };\n",
              "\n",
              "    // Use a chunked sending to avoid message size limits. See b/62115660.\n",
              "    let position = 0;\n",
              "    do {\n",
              "      const length = Math.min(fileData.byteLength - position, MAX_PAYLOAD_SIZE);\n",
              "      const chunk = new Uint8Array(fileData, position, length);\n",
              "      position += length;\n",
              "\n",
              "      const base64 = btoa(String.fromCharCode.apply(null, chunk));\n",
              "      yield {\n",
              "        response: {\n",
              "          action: 'append',\n",
              "          file: file.name,\n",
              "          data: base64,\n",
              "        },\n",
              "      };\n",
              "\n",
              "      let percentDone = fileData.byteLength === 0 ?\n",
              "          100 :\n",
              "          Math.round((position / fileData.byteLength) * 100);\n",
              "      percent.textContent = `${percentDone}% done`;\n",
              "\n",
              "    } while (position < fileData.byteLength);\n",
              "  }\n",
              "\n",
              "  // All done.\n",
              "  yield {\n",
              "    response: {\n",
              "      action: 'complete',\n",
              "    }\n",
              "  };\n",
              "}\n",
              "\n",
              "scope.google = scope.google || {};\n",
              "scope.google.colab = scope.google.colab || {};\n",
              "scope.google.colab._files = {\n",
              "  _uploadFiles,\n",
              "  _uploadFilesContinue,\n",
              "};\n",
              "})(self);\n",
              "</script> "
            ]
          },
          "metadata": {}
        },
        {
          "output_type": "stream",
          "name": "stdout",
          "text": [
            "Saving Customer Reviews - Kopi Kenangan.xlsx to Customer Reviews - Kopi Kenangan (2).xlsx\n"
          ]
        },
        {
          "output_type": "execute_result",
          "data": {
            "text/plain": [
              "  branch_id  review_id   branch         reviewer_name reviewer_gender  \\\n",
              "0      B001          1  Bandung  mEjiGOs2PtuNwnuzrOuX          female   \n",
              "1      B001          2  Bandung  mEjiMZMUZCWPvbqS47Ab          female   \n",
              "2      B001          3  Bandung  mEjikR2qTP3R8aW01nyd            male   \n",
              "3      B001          4  Bandung  mEjieTPzeFUFfKfvDNFj          female   \n",
              "4      B001          5  Bandung  mEjiQG2YXOSJleJawGX4          female   \n",
              "\n",
              "  review_date review_counts     rating likes  \\\n",
              "0  2022-08-07     83 ulasan  5 bintang   NaN   \n",
              "1  2022-09-03    133 ulasan  5 bintang   NaN   \n",
              "2  2019-10-20     24 ulasan  1 bintang   NaN   \n",
              "3  2023-02-20     13 ulasan  3 bintang   NaN   \n",
              "4  2022-02-12    294 ulasan  5 bintang   NaN   \n",
              "\n",
              "                                             content sentiment review_tone  \\\n",
              "0  Kalau pas lagi kerja atau istirahat selalu pes...  Positive   satisfied   \n",
              "1  Jadi kemarin aku nyobain ke sini dan ternyata ...  Positive   satisfied   \n",
              "2  Boba nya keras ga fress , boba nya beku dan es...  Negative   disgusted   \n",
              "3  sy dulu suka beli kopi kenangan karena ga bnya...   Neutral    disliked   \n",
              "4  Rasa kopi mantan enak. Tempat sepi. Pas utk me...   Neutral     neutral   \n",
              "\n",
              "                               tags  about_place  about_food  about_service  \n",
              "0                [minuman, rasanya]          0.0         1.0            0.0  \n",
              "1   [ parkiran, tempat, pelayanan ]          1.0         0.0            1.0  \n",
              "2       [minuman, pesanan, keluhan]          0.0         1.0            0.0  \n",
              "3  [tempat, pesanan, minuman, rasa]          1.0         1.0            0.0  \n",
              "4                ['tempat', 'rasa']          1.0         1.0            0.0  "
            ],
            "text/html": [
              "\n",
              "\n",
              "  <div id=\"df-f82a6568-5d1d-41ee-ad44-9d17bfd36b4e\">\n",
              "    <div class=\"colab-df-container\">\n",
              "      <div>\n",
              "<style scoped>\n",
              "    .dataframe tbody tr th:only-of-type {\n",
              "        vertical-align: middle;\n",
              "    }\n",
              "\n",
              "    .dataframe tbody tr th {\n",
              "        vertical-align: top;\n",
              "    }\n",
              "\n",
              "    .dataframe thead th {\n",
              "        text-align: right;\n",
              "    }\n",
              "</style>\n",
              "<table border=\"1\" class=\"dataframe\">\n",
              "  <thead>\n",
              "    <tr style=\"text-align: right;\">\n",
              "      <th></th>\n",
              "      <th>branch_id</th>\n",
              "      <th>review_id</th>\n",
              "      <th>branch</th>\n",
              "      <th>reviewer_name</th>\n",
              "      <th>reviewer_gender</th>\n",
              "      <th>review_date</th>\n",
              "      <th>review_counts</th>\n",
              "      <th>rating</th>\n",
              "      <th>likes</th>\n",
              "      <th>content</th>\n",
              "      <th>sentiment</th>\n",
              "      <th>review_tone</th>\n",
              "      <th>tags</th>\n",
              "      <th>about_place</th>\n",
              "      <th>about_food</th>\n",
              "      <th>about_service</th>\n",
              "    </tr>\n",
              "  </thead>\n",
              "  <tbody>\n",
              "    <tr>\n",
              "      <th>0</th>\n",
              "      <td>B001</td>\n",
              "      <td>1</td>\n",
              "      <td>Bandung</td>\n",
              "      <td>mEjiGOs2PtuNwnuzrOuX</td>\n",
              "      <td>female</td>\n",
              "      <td>2022-08-07</td>\n",
              "      <td>83 ulasan</td>\n",
              "      <td>5 bintang</td>\n",
              "      <td>NaN</td>\n",
              "      <td>Kalau pas lagi kerja atau istirahat selalu pes...</td>\n",
              "      <td>Positive</td>\n",
              "      <td>satisfied</td>\n",
              "      <td>[minuman, rasanya]</td>\n",
              "      <td>0.0</td>\n",
              "      <td>1.0</td>\n",
              "      <td>0.0</td>\n",
              "    </tr>\n",
              "    <tr>\n",
              "      <th>1</th>\n",
              "      <td>B001</td>\n",
              "      <td>2</td>\n",
              "      <td>Bandung</td>\n",
              "      <td>mEjiMZMUZCWPvbqS47Ab</td>\n",
              "      <td>female</td>\n",
              "      <td>2022-09-03</td>\n",
              "      <td>133 ulasan</td>\n",
              "      <td>5 bintang</td>\n",
              "      <td>NaN</td>\n",
              "      <td>Jadi kemarin aku nyobain ke sini dan ternyata ...</td>\n",
              "      <td>Positive</td>\n",
              "      <td>satisfied</td>\n",
              "      <td>[ parkiran, tempat, pelayanan ]</td>\n",
              "      <td>1.0</td>\n",
              "      <td>0.0</td>\n",
              "      <td>1.0</td>\n",
              "    </tr>\n",
              "    <tr>\n",
              "      <th>2</th>\n",
              "      <td>B001</td>\n",
              "      <td>3</td>\n",
              "      <td>Bandung</td>\n",
              "      <td>mEjikR2qTP3R8aW01nyd</td>\n",
              "      <td>male</td>\n",
              "      <td>2019-10-20</td>\n",
              "      <td>24 ulasan</td>\n",
              "      <td>1 bintang</td>\n",
              "      <td>NaN</td>\n",
              "      <td>Boba nya keras ga fress , boba nya beku dan es...</td>\n",
              "      <td>Negative</td>\n",
              "      <td>disgusted</td>\n",
              "      <td>[minuman, pesanan, keluhan]</td>\n",
              "      <td>0.0</td>\n",
              "      <td>1.0</td>\n",
              "      <td>0.0</td>\n",
              "    </tr>\n",
              "    <tr>\n",
              "      <th>3</th>\n",
              "      <td>B001</td>\n",
              "      <td>4</td>\n",
              "      <td>Bandung</td>\n",
              "      <td>mEjieTPzeFUFfKfvDNFj</td>\n",
              "      <td>female</td>\n",
              "      <td>2023-02-20</td>\n",
              "      <td>13 ulasan</td>\n",
              "      <td>3 bintang</td>\n",
              "      <td>NaN</td>\n",
              "      <td>sy dulu suka beli kopi kenangan karena ga bnya...</td>\n",
              "      <td>Neutral</td>\n",
              "      <td>disliked</td>\n",
              "      <td>[tempat, pesanan, minuman, rasa]</td>\n",
              "      <td>1.0</td>\n",
              "      <td>1.0</td>\n",
              "      <td>0.0</td>\n",
              "    </tr>\n",
              "    <tr>\n",
              "      <th>4</th>\n",
              "      <td>B001</td>\n",
              "      <td>5</td>\n",
              "      <td>Bandung</td>\n",
              "      <td>mEjiQG2YXOSJleJawGX4</td>\n",
              "      <td>female</td>\n",
              "      <td>2022-02-12</td>\n",
              "      <td>294 ulasan</td>\n",
              "      <td>5 bintang</td>\n",
              "      <td>NaN</td>\n",
              "      <td>Rasa kopi mantan enak. Tempat sepi. Pas utk me...</td>\n",
              "      <td>Neutral</td>\n",
              "      <td>neutral</td>\n",
              "      <td>['tempat', 'rasa']</td>\n",
              "      <td>1.0</td>\n",
              "      <td>1.0</td>\n",
              "      <td>0.0</td>\n",
              "    </tr>\n",
              "  </tbody>\n",
              "</table>\n",
              "</div>\n",
              "      <button class=\"colab-df-convert\" onclick=\"convertToInteractive('df-f82a6568-5d1d-41ee-ad44-9d17bfd36b4e')\"\n",
              "              title=\"Convert this dataframe to an interactive table.\"\n",
              "              style=\"display:none;\">\n",
              "\n",
              "  <svg xmlns=\"http://www.w3.org/2000/svg\" height=\"24px\"viewBox=\"0 0 24 24\"\n",
              "       width=\"24px\">\n",
              "    <path d=\"M0 0h24v24H0V0z\" fill=\"none\"/>\n",
              "    <path d=\"M18.56 5.44l.94 2.06.94-2.06 2.06-.94-2.06-.94-.94-2.06-.94 2.06-2.06.94zm-11 1L8.5 8.5l.94-2.06 2.06-.94-2.06-.94L8.5 2.5l-.94 2.06-2.06.94zm10 10l.94 2.06.94-2.06 2.06-.94-2.06-.94-.94-2.06-.94 2.06-2.06.94z\"/><path d=\"M17.41 7.96l-1.37-1.37c-.4-.4-.92-.59-1.43-.59-.52 0-1.04.2-1.43.59L10.3 9.45l-7.72 7.72c-.78.78-.78 2.05 0 2.83L4 21.41c.39.39.9.59 1.41.59.51 0 1.02-.2 1.41-.59l7.78-7.78 2.81-2.81c.8-.78.8-2.07 0-2.86zM5.41 20L4 18.59l7.72-7.72 1.47 1.35L5.41 20z\"/>\n",
              "  </svg>\n",
              "      </button>\n",
              "\n",
              "\n",
              "\n",
              "    <div id=\"df-96cef89a-a1a6-405b-a1e4-05e4586cc735\">\n",
              "      <button class=\"colab-df-quickchart\" onclick=\"quickchart('df-96cef89a-a1a6-405b-a1e4-05e4586cc735')\"\n",
              "              title=\"Suggest charts.\"\n",
              "              style=\"display:none;\">\n",
              "\n",
              "<svg xmlns=\"http://www.w3.org/2000/svg\" height=\"24px\"viewBox=\"0 0 24 24\"\n",
              "     width=\"24px\">\n",
              "    <g>\n",
              "        <path d=\"M19 3H5c-1.1 0-2 .9-2 2v14c0 1.1.9 2 2 2h14c1.1 0 2-.9 2-2V5c0-1.1-.9-2-2-2zM9 17H7v-7h2v7zm4 0h-2V7h2v10zm4 0h-2v-4h2v4z\"/>\n",
              "    </g>\n",
              "</svg>\n",
              "      </button>\n",
              "    </div>\n",
              "\n",
              "<style>\n",
              "  .colab-df-quickchart {\n",
              "    background-color: #E8F0FE;\n",
              "    border: none;\n",
              "    border-radius: 50%;\n",
              "    cursor: pointer;\n",
              "    display: none;\n",
              "    fill: #1967D2;\n",
              "    height: 32px;\n",
              "    padding: 0 0 0 0;\n",
              "    width: 32px;\n",
              "  }\n",
              "\n",
              "  .colab-df-quickchart:hover {\n",
              "    background-color: #E2EBFA;\n",
              "    box-shadow: 0px 1px 2px rgba(60, 64, 67, 0.3), 0px 1px 3px 1px rgba(60, 64, 67, 0.15);\n",
              "    fill: #174EA6;\n",
              "  }\n",
              "\n",
              "  [theme=dark] .colab-df-quickchart {\n",
              "    background-color: #3B4455;\n",
              "    fill: #D2E3FC;\n",
              "  }\n",
              "\n",
              "  [theme=dark] .colab-df-quickchart:hover {\n",
              "    background-color: #434B5C;\n",
              "    box-shadow: 0px 1px 3px 1px rgba(0, 0, 0, 0.15);\n",
              "    filter: drop-shadow(0px 1px 2px rgba(0, 0, 0, 0.3));\n",
              "    fill: #FFFFFF;\n",
              "  }\n",
              "</style>\n",
              "\n",
              "    <script>\n",
              "      async function quickchart(key) {\n",
              "        const containerElement = document.querySelector('#' + key);\n",
              "        const charts = await google.colab.kernel.invokeFunction(\n",
              "            'suggestCharts', [key], {});\n",
              "      }\n",
              "    </script>\n",
              "\n",
              "      <script>\n",
              "\n",
              "function displayQuickchartButton(domScope) {\n",
              "  let quickchartButtonEl =\n",
              "    domScope.querySelector('#df-96cef89a-a1a6-405b-a1e4-05e4586cc735 button.colab-df-quickchart');\n",
              "  quickchartButtonEl.style.display =\n",
              "    google.colab.kernel.accessAllowed ? 'block' : 'none';\n",
              "}\n",
              "\n",
              "        displayQuickchartButton(document);\n",
              "      </script>\n",
              "      <style>\n",
              "    .colab-df-container {\n",
              "      display:flex;\n",
              "      flex-wrap:wrap;\n",
              "      gap: 12px;\n",
              "    }\n",
              "\n",
              "    .colab-df-convert {\n",
              "      background-color: #E8F0FE;\n",
              "      border: none;\n",
              "      border-radius: 50%;\n",
              "      cursor: pointer;\n",
              "      display: none;\n",
              "      fill: #1967D2;\n",
              "      height: 32px;\n",
              "      padding: 0 0 0 0;\n",
              "      width: 32px;\n",
              "    }\n",
              "\n",
              "    .colab-df-convert:hover {\n",
              "      background-color: #E2EBFA;\n",
              "      box-shadow: 0px 1px 2px rgba(60, 64, 67, 0.3), 0px 1px 3px 1px rgba(60, 64, 67, 0.15);\n",
              "      fill: #174EA6;\n",
              "    }\n",
              "\n",
              "    [theme=dark] .colab-df-convert {\n",
              "      background-color: #3B4455;\n",
              "      fill: #D2E3FC;\n",
              "    }\n",
              "\n",
              "    [theme=dark] .colab-df-convert:hover {\n",
              "      background-color: #434B5C;\n",
              "      box-shadow: 0px 1px 3px 1px rgba(0, 0, 0, 0.15);\n",
              "      filter: drop-shadow(0px 1px 2px rgba(0, 0, 0, 0.3));\n",
              "      fill: #FFFFFF;\n",
              "    }\n",
              "  </style>\n",
              "\n",
              "      <script>\n",
              "        const buttonEl =\n",
              "          document.querySelector('#df-f82a6568-5d1d-41ee-ad44-9d17bfd36b4e button.colab-df-convert');\n",
              "        buttonEl.style.display =\n",
              "          google.colab.kernel.accessAllowed ? 'block' : 'none';\n",
              "\n",
              "        async function convertToInteractive(key) {\n",
              "          const element = document.querySelector('#df-f82a6568-5d1d-41ee-ad44-9d17bfd36b4e');\n",
              "          const dataTable =\n",
              "            await google.colab.kernel.invokeFunction('convertToInteractive',\n",
              "                                                     [key], {});\n",
              "          if (!dataTable) return;\n",
              "\n",
              "          const docLinkHtml = 'Like what you see? Visit the ' +\n",
              "            '<a target=\"_blank\" href=https://colab.research.google.com/notebooks/data_table.ipynb>data table notebook</a>'\n",
              "            + ' to learn more about interactive tables.';\n",
              "          element.innerHTML = '';\n",
              "          dataTable['output_type'] = 'display_data';\n",
              "          await google.colab.output.renderOutput(dataTable, element);\n",
              "          const docLink = document.createElement('div');\n",
              "          docLink.innerHTML = docLinkHtml;\n",
              "          element.appendChild(docLink);\n",
              "        }\n",
              "      </script>\n",
              "    </div>\n",
              "  </div>\n"
            ]
          },
          "metadata": {},
          "execution_count": 31
        }
      ]
    },
    {
      "cell_type": "code",
      "source": [
        "df.describe()"
      ],
      "metadata": {
        "colab": {
          "base_uri": "https://localhost:8080/",
          "height": 300
        },
        "id": "poPRd2gAoNxp",
        "outputId": "db65f6e4-7262-4faf-f001-170448c7adb3"
      },
      "execution_count": 32,
      "outputs": [
        {
          "output_type": "execute_result",
          "data": {
            "text/plain": [
              "         review_id  about_place  about_food  about_service\n",
              "count  1591.000000   915.000000  915.000000     915.000000\n",
              "mean    796.000000     0.474317    0.308197       0.231694\n",
              "std     459.426454     0.499613    0.462001       0.422145\n",
              "min       1.000000     0.000000    0.000000       0.000000\n",
              "25%     398.500000     0.000000    0.000000       0.000000\n",
              "50%     796.000000     0.000000    0.000000       0.000000\n",
              "75%    1193.500000     1.000000    1.000000       0.000000\n",
              "max    1591.000000     1.000000    1.000000       1.000000"
            ],
            "text/html": [
              "\n",
              "\n",
              "  <div id=\"df-76ad8ed1-2a5f-4d1b-b783-b6ae1defea1a\">\n",
              "    <div class=\"colab-df-container\">\n",
              "      <div>\n",
              "<style scoped>\n",
              "    .dataframe tbody tr th:only-of-type {\n",
              "        vertical-align: middle;\n",
              "    }\n",
              "\n",
              "    .dataframe tbody tr th {\n",
              "        vertical-align: top;\n",
              "    }\n",
              "\n",
              "    .dataframe thead th {\n",
              "        text-align: right;\n",
              "    }\n",
              "</style>\n",
              "<table border=\"1\" class=\"dataframe\">\n",
              "  <thead>\n",
              "    <tr style=\"text-align: right;\">\n",
              "      <th></th>\n",
              "      <th>review_id</th>\n",
              "      <th>about_place</th>\n",
              "      <th>about_food</th>\n",
              "      <th>about_service</th>\n",
              "    </tr>\n",
              "  </thead>\n",
              "  <tbody>\n",
              "    <tr>\n",
              "      <th>count</th>\n",
              "      <td>1591.000000</td>\n",
              "      <td>915.000000</td>\n",
              "      <td>915.000000</td>\n",
              "      <td>915.000000</td>\n",
              "    </tr>\n",
              "    <tr>\n",
              "      <th>mean</th>\n",
              "      <td>796.000000</td>\n",
              "      <td>0.474317</td>\n",
              "      <td>0.308197</td>\n",
              "      <td>0.231694</td>\n",
              "    </tr>\n",
              "    <tr>\n",
              "      <th>std</th>\n",
              "      <td>459.426454</td>\n",
              "      <td>0.499613</td>\n",
              "      <td>0.462001</td>\n",
              "      <td>0.422145</td>\n",
              "    </tr>\n",
              "    <tr>\n",
              "      <th>min</th>\n",
              "      <td>1.000000</td>\n",
              "      <td>0.000000</td>\n",
              "      <td>0.000000</td>\n",
              "      <td>0.000000</td>\n",
              "    </tr>\n",
              "    <tr>\n",
              "      <th>25%</th>\n",
              "      <td>398.500000</td>\n",
              "      <td>0.000000</td>\n",
              "      <td>0.000000</td>\n",
              "      <td>0.000000</td>\n",
              "    </tr>\n",
              "    <tr>\n",
              "      <th>50%</th>\n",
              "      <td>796.000000</td>\n",
              "      <td>0.000000</td>\n",
              "      <td>0.000000</td>\n",
              "      <td>0.000000</td>\n",
              "    </tr>\n",
              "    <tr>\n",
              "      <th>75%</th>\n",
              "      <td>1193.500000</td>\n",
              "      <td>1.000000</td>\n",
              "      <td>1.000000</td>\n",
              "      <td>0.000000</td>\n",
              "    </tr>\n",
              "    <tr>\n",
              "      <th>max</th>\n",
              "      <td>1591.000000</td>\n",
              "      <td>1.000000</td>\n",
              "      <td>1.000000</td>\n",
              "      <td>1.000000</td>\n",
              "    </tr>\n",
              "  </tbody>\n",
              "</table>\n",
              "</div>\n",
              "      <button class=\"colab-df-convert\" onclick=\"convertToInteractive('df-76ad8ed1-2a5f-4d1b-b783-b6ae1defea1a')\"\n",
              "              title=\"Convert this dataframe to an interactive table.\"\n",
              "              style=\"display:none;\">\n",
              "\n",
              "  <svg xmlns=\"http://www.w3.org/2000/svg\" height=\"24px\"viewBox=\"0 0 24 24\"\n",
              "       width=\"24px\">\n",
              "    <path d=\"M0 0h24v24H0V0z\" fill=\"none\"/>\n",
              "    <path d=\"M18.56 5.44l.94 2.06.94-2.06 2.06-.94-2.06-.94-.94-2.06-.94 2.06-2.06.94zm-11 1L8.5 8.5l.94-2.06 2.06-.94-2.06-.94L8.5 2.5l-.94 2.06-2.06.94zm10 10l.94 2.06.94-2.06 2.06-.94-2.06-.94-.94-2.06-.94 2.06-2.06.94z\"/><path d=\"M17.41 7.96l-1.37-1.37c-.4-.4-.92-.59-1.43-.59-.52 0-1.04.2-1.43.59L10.3 9.45l-7.72 7.72c-.78.78-.78 2.05 0 2.83L4 21.41c.39.39.9.59 1.41.59.51 0 1.02-.2 1.41-.59l7.78-7.78 2.81-2.81c.8-.78.8-2.07 0-2.86zM5.41 20L4 18.59l7.72-7.72 1.47 1.35L5.41 20z\"/>\n",
              "  </svg>\n",
              "      </button>\n",
              "\n",
              "\n",
              "\n",
              "    <div id=\"df-12f39a35-c9b5-4e57-a41c-14bc01f03e32\">\n",
              "      <button class=\"colab-df-quickchart\" onclick=\"quickchart('df-12f39a35-c9b5-4e57-a41c-14bc01f03e32')\"\n",
              "              title=\"Suggest charts.\"\n",
              "              style=\"display:none;\">\n",
              "\n",
              "<svg xmlns=\"http://www.w3.org/2000/svg\" height=\"24px\"viewBox=\"0 0 24 24\"\n",
              "     width=\"24px\">\n",
              "    <g>\n",
              "        <path d=\"M19 3H5c-1.1 0-2 .9-2 2v14c0 1.1.9 2 2 2h14c1.1 0 2-.9 2-2V5c0-1.1-.9-2-2-2zM9 17H7v-7h2v7zm4 0h-2V7h2v10zm4 0h-2v-4h2v4z\"/>\n",
              "    </g>\n",
              "</svg>\n",
              "      </button>\n",
              "    </div>\n",
              "\n",
              "<style>\n",
              "  .colab-df-quickchart {\n",
              "    background-color: #E8F0FE;\n",
              "    border: none;\n",
              "    border-radius: 50%;\n",
              "    cursor: pointer;\n",
              "    display: none;\n",
              "    fill: #1967D2;\n",
              "    height: 32px;\n",
              "    padding: 0 0 0 0;\n",
              "    width: 32px;\n",
              "  }\n",
              "\n",
              "  .colab-df-quickchart:hover {\n",
              "    background-color: #E2EBFA;\n",
              "    box-shadow: 0px 1px 2px rgba(60, 64, 67, 0.3), 0px 1px 3px 1px rgba(60, 64, 67, 0.15);\n",
              "    fill: #174EA6;\n",
              "  }\n",
              "\n",
              "  [theme=dark] .colab-df-quickchart {\n",
              "    background-color: #3B4455;\n",
              "    fill: #D2E3FC;\n",
              "  }\n",
              "\n",
              "  [theme=dark] .colab-df-quickchart:hover {\n",
              "    background-color: #434B5C;\n",
              "    box-shadow: 0px 1px 3px 1px rgba(0, 0, 0, 0.15);\n",
              "    filter: drop-shadow(0px 1px 2px rgba(0, 0, 0, 0.3));\n",
              "    fill: #FFFFFF;\n",
              "  }\n",
              "</style>\n",
              "\n",
              "    <script>\n",
              "      async function quickchart(key) {\n",
              "        const containerElement = document.querySelector('#' + key);\n",
              "        const charts = await google.colab.kernel.invokeFunction(\n",
              "            'suggestCharts', [key], {});\n",
              "      }\n",
              "    </script>\n",
              "\n",
              "      <script>\n",
              "\n",
              "function displayQuickchartButton(domScope) {\n",
              "  let quickchartButtonEl =\n",
              "    domScope.querySelector('#df-12f39a35-c9b5-4e57-a41c-14bc01f03e32 button.colab-df-quickchart');\n",
              "  quickchartButtonEl.style.display =\n",
              "    google.colab.kernel.accessAllowed ? 'block' : 'none';\n",
              "}\n",
              "\n",
              "        displayQuickchartButton(document);\n",
              "      </script>\n",
              "      <style>\n",
              "    .colab-df-container {\n",
              "      display:flex;\n",
              "      flex-wrap:wrap;\n",
              "      gap: 12px;\n",
              "    }\n",
              "\n",
              "    .colab-df-convert {\n",
              "      background-color: #E8F0FE;\n",
              "      border: none;\n",
              "      border-radius: 50%;\n",
              "      cursor: pointer;\n",
              "      display: none;\n",
              "      fill: #1967D2;\n",
              "      height: 32px;\n",
              "      padding: 0 0 0 0;\n",
              "      width: 32px;\n",
              "    }\n",
              "\n",
              "    .colab-df-convert:hover {\n",
              "      background-color: #E2EBFA;\n",
              "      box-shadow: 0px 1px 2px rgba(60, 64, 67, 0.3), 0px 1px 3px 1px rgba(60, 64, 67, 0.15);\n",
              "      fill: #174EA6;\n",
              "    }\n",
              "\n",
              "    [theme=dark] .colab-df-convert {\n",
              "      background-color: #3B4455;\n",
              "      fill: #D2E3FC;\n",
              "    }\n",
              "\n",
              "    [theme=dark] .colab-df-convert:hover {\n",
              "      background-color: #434B5C;\n",
              "      box-shadow: 0px 1px 3px 1px rgba(0, 0, 0, 0.15);\n",
              "      filter: drop-shadow(0px 1px 2px rgba(0, 0, 0, 0.3));\n",
              "      fill: #FFFFFF;\n",
              "    }\n",
              "  </style>\n",
              "\n",
              "      <script>\n",
              "        const buttonEl =\n",
              "          document.querySelector('#df-76ad8ed1-2a5f-4d1b-b783-b6ae1defea1a button.colab-df-convert');\n",
              "        buttonEl.style.display =\n",
              "          google.colab.kernel.accessAllowed ? 'block' : 'none';\n",
              "\n",
              "        async function convertToInteractive(key) {\n",
              "          const element = document.querySelector('#df-76ad8ed1-2a5f-4d1b-b783-b6ae1defea1a');\n",
              "          const dataTable =\n",
              "            await google.colab.kernel.invokeFunction('convertToInteractive',\n",
              "                                                     [key], {});\n",
              "          if (!dataTable) return;\n",
              "\n",
              "          const docLinkHtml = 'Like what you see? Visit the ' +\n",
              "            '<a target=\"_blank\" href=https://colab.research.google.com/notebooks/data_table.ipynb>data table notebook</a>'\n",
              "            + ' to learn more about interactive tables.';\n",
              "          element.innerHTML = '';\n",
              "          dataTable['output_type'] = 'display_data';\n",
              "          await google.colab.output.renderOutput(dataTable, element);\n",
              "          const docLink = document.createElement('div');\n",
              "          docLink.innerHTML = docLinkHtml;\n",
              "          element.appendChild(docLink);\n",
              "        }\n",
              "      </script>\n",
              "    </div>\n",
              "  </div>\n"
            ]
          },
          "metadata": {},
          "execution_count": 32
        }
      ]
    },
    {
      "cell_type": "code",
      "source": [
        "df.info()"
      ],
      "metadata": {
        "colab": {
          "base_uri": "https://localhost:8080/"
        },
        "id": "ss7RhnSBiXKm",
        "outputId": "2841f942-27d5-4f54-f5a7-b311049d4216"
      },
      "execution_count": 33,
      "outputs": [
        {
          "output_type": "stream",
          "name": "stdout",
          "text": [
            "<class 'pandas.core.frame.DataFrame'>\n",
            "RangeIndex: 1591 entries, 0 to 1590\n",
            "Data columns (total 16 columns):\n",
            " #   Column           Non-Null Count  Dtype         \n",
            "---  ------           --------------  -----         \n",
            " 0   branch_id        1591 non-null   object        \n",
            " 1   review_id        1591 non-null   int64         \n",
            " 2   branch           1591 non-null   object        \n",
            " 3   reviewer_name    1591 non-null   object        \n",
            " 4   reviewer_gender  1335 non-null   object        \n",
            " 5   review_date      1591 non-null   datetime64[ns]\n",
            " 6   review_counts    1510 non-null   object        \n",
            " 7   rating           1591 non-null   object        \n",
            " 8   likes            87 non-null     object        \n",
            " 9   content          915 non-null    object        \n",
            " 10  sentiment        915 non-null    object        \n",
            " 11  review_tone      915 non-null    object        \n",
            " 12  tags             915 non-null    object        \n",
            " 13  about_place      915 non-null    float64       \n",
            " 14  about_food       915 non-null    float64       \n",
            " 15  about_service    915 non-null    float64       \n",
            "dtypes: datetime64[ns](1), float64(3), int64(1), object(11)\n",
            "memory usage: 199.0+ KB\n"
          ]
        }
      ]
    },
    {
      "cell_type": "code",
      "source": [
        "df.isna().sum()"
      ],
      "metadata": {
        "colab": {
          "base_uri": "https://localhost:8080/"
        },
        "id": "M_16dOp4obS7",
        "outputId": "73686cd7-c277-4d43-b800-4adb39a23bfd"
      },
      "execution_count": 34,
      "outputs": [
        {
          "output_type": "execute_result",
          "data": {
            "text/plain": [
              "branch_id             0\n",
              "review_id             0\n",
              "branch                0\n",
              "reviewer_name         0\n",
              "reviewer_gender     256\n",
              "review_date           0\n",
              "review_counts        81\n",
              "rating                0\n",
              "likes              1504\n",
              "content             676\n",
              "sentiment           676\n",
              "review_tone         676\n",
              "tags                676\n",
              "about_place         676\n",
              "about_food          676\n",
              "about_service       676\n",
              "dtype: int64"
            ]
          },
          "metadata": {},
          "execution_count": 34
        }
      ]
    },
    {
      "cell_type": "markdown",
      "source": [
        "###PREPROCESSING"
      ],
      "metadata": {
        "id": "DUtCcDwyu0pm"
      }
    },
    {
      "cell_type": "code",
      "source": [
        "# Kolom-kolom yang ingin diisi dengan mean\n",
        "columns_to_impute = ['about_place', 'about_food', 'about_service']\n",
        "imputer = SimpleImputer(strategy='mean')\n",
        "df[columns_to_impute] = imputer.fit_transform(df[columns_to_impute])\n",
        "print(df.head())"
      ],
      "metadata": {
        "colab": {
          "base_uri": "https://localhost:8080/"
        },
        "id": "xON8xydTrmah",
        "outputId": "e3437e1e-2391-4388-971c-4e0f43b04938"
      },
      "execution_count": 35,
      "outputs": [
        {
          "output_type": "stream",
          "name": "stdout",
          "text": [
            "  branch_id  review_id   branch         reviewer_name reviewer_gender  \\\n",
            "0      B001          1  Bandung  mEjiGOs2PtuNwnuzrOuX          female   \n",
            "1      B001          2  Bandung  mEjiMZMUZCWPvbqS47Ab          female   \n",
            "2      B001          3  Bandung  mEjikR2qTP3R8aW01nyd            male   \n",
            "3      B001          4  Bandung  mEjieTPzeFUFfKfvDNFj          female   \n",
            "4      B001          5  Bandung  mEjiQG2YXOSJleJawGX4          female   \n",
            "\n",
            "  review_date review_counts     rating likes  \\\n",
            "0  2022-08-07     83 ulasan  5 bintang   NaN   \n",
            "1  2022-09-03    133 ulasan  5 bintang   NaN   \n",
            "2  2019-10-20     24 ulasan  1 bintang   NaN   \n",
            "3  2023-02-20     13 ulasan  3 bintang   NaN   \n",
            "4  2022-02-12    294 ulasan  5 bintang   NaN   \n",
            "\n",
            "                                             content sentiment review_tone  \\\n",
            "0  Kalau pas lagi kerja atau istirahat selalu pes...  Positive   satisfied   \n",
            "1  Jadi kemarin aku nyobain ke sini dan ternyata ...  Positive   satisfied   \n",
            "2  Boba nya keras ga fress , boba nya beku dan es...  Negative   disgusted   \n",
            "3  sy dulu suka beli kopi kenangan karena ga bnya...   Neutral    disliked   \n",
            "4  Rasa kopi mantan enak. Tempat sepi. Pas utk me...   Neutral     neutral   \n",
            "\n",
            "                               tags  about_place  about_food  about_service  \n",
            "0                [minuman, rasanya]          0.0         1.0            0.0  \n",
            "1   [ parkiran, tempat, pelayanan ]          1.0         0.0            1.0  \n",
            "2       [minuman, pesanan, keluhan]          0.0         1.0            0.0  \n",
            "3  [tempat, pesanan, minuman, rasa]          1.0         1.0            0.0  \n",
            "4                ['tempat', 'rasa']          1.0         1.0            0.0  \n"
          ]
        }
      ]
    },
    {
      "cell_type": "code",
      "source": [
        "# Kolom yang ingin diisi dengan modus\n",
        "column_to_impute = 'reviewer_gender'\n",
        "imputer = SimpleImputer(strategy='most_frequent')\n",
        "df[column_to_impute] = imputer.fit_transform(df[[column_to_impute]])\n",
        "print(df.head())"
      ],
      "metadata": {
        "colab": {
          "base_uri": "https://localhost:8080/"
        },
        "id": "WyxXjvHbh0gY",
        "outputId": "63b8e183-e2ee-454f-90ee-dc634188e068"
      },
      "execution_count": 36,
      "outputs": [
        {
          "output_type": "stream",
          "name": "stdout",
          "text": [
            "  branch_id  review_id   branch         reviewer_name reviewer_gender  \\\n",
            "0      B001          1  Bandung  mEjiGOs2PtuNwnuzrOuX          female   \n",
            "1      B001          2  Bandung  mEjiMZMUZCWPvbqS47Ab          female   \n",
            "2      B001          3  Bandung  mEjikR2qTP3R8aW01nyd            male   \n",
            "3      B001          4  Bandung  mEjieTPzeFUFfKfvDNFj          female   \n",
            "4      B001          5  Bandung  mEjiQG2YXOSJleJawGX4          female   \n",
            "\n",
            "  review_date review_counts     rating likes  \\\n",
            "0  2022-08-07     83 ulasan  5 bintang   NaN   \n",
            "1  2022-09-03    133 ulasan  5 bintang   NaN   \n",
            "2  2019-10-20     24 ulasan  1 bintang   NaN   \n",
            "3  2023-02-20     13 ulasan  3 bintang   NaN   \n",
            "4  2022-02-12    294 ulasan  5 bintang   NaN   \n",
            "\n",
            "                                             content sentiment review_tone  \\\n",
            "0  Kalau pas lagi kerja atau istirahat selalu pes...  Positive   satisfied   \n",
            "1  Jadi kemarin aku nyobain ke sini dan ternyata ...  Positive   satisfied   \n",
            "2  Boba nya keras ga fress , boba nya beku dan es...  Negative   disgusted   \n",
            "3  sy dulu suka beli kopi kenangan karena ga bnya...   Neutral    disliked   \n",
            "4  Rasa kopi mantan enak. Tempat sepi. Pas utk me...   Neutral     neutral   \n",
            "\n",
            "                               tags  about_place  about_food  about_service  \n",
            "0                [minuman, rasanya]          0.0         1.0            0.0  \n",
            "1   [ parkiran, tempat, pelayanan ]          1.0         0.0            1.0  \n",
            "2       [minuman, pesanan, keluhan]          0.0         1.0            0.0  \n",
            "3  [tempat, pesanan, minuman, rasa]          1.0         1.0            0.0  \n",
            "4                ['tempat', 'rasa']          1.0         1.0            0.0  \n"
          ]
        }
      ]
    },
    {
      "cell_type": "code",
      "source": [
        "# Kolom yang ingin diubah\n",
        "column_to_modify = 'review_counts'\n",
        "df[column_to_modify] = df[column_to_modify].str.replace(' ulasan', '').astype(float)\n",
        "imputer = SimpleImputer(strategy='mean')\n",
        "df[column_to_modify] = imputer.fit_transform(df[[column_to_modify]])\n",
        "df[column_to_modify] = df[column_to_modify].astype(int)\n",
        "print(df.head())"
      ],
      "metadata": {
        "colab": {
          "base_uri": "https://localhost:8080/"
        },
        "id": "HcuVvyYVkkmV",
        "outputId": "ebbe7421-1f7b-4256-f95f-a2a3948ddb4d"
      },
      "execution_count": 37,
      "outputs": [
        {
          "output_type": "stream",
          "name": "stdout",
          "text": [
            "  branch_id  review_id   branch         reviewer_name reviewer_gender  \\\n",
            "0      B001          1  Bandung  mEjiGOs2PtuNwnuzrOuX          female   \n",
            "1      B001          2  Bandung  mEjiMZMUZCWPvbqS47Ab          female   \n",
            "2      B001          3  Bandung  mEjikR2qTP3R8aW01nyd            male   \n",
            "3      B001          4  Bandung  mEjieTPzeFUFfKfvDNFj          female   \n",
            "4      B001          5  Bandung  mEjiQG2YXOSJleJawGX4          female   \n",
            "\n",
            "  review_date  review_counts     rating likes  \\\n",
            "0  2022-08-07             83  5 bintang   NaN   \n",
            "1  2022-09-03            133  5 bintang   NaN   \n",
            "2  2019-10-20             24  1 bintang   NaN   \n",
            "3  2023-02-20             13  3 bintang   NaN   \n",
            "4  2022-02-12            294  5 bintang   NaN   \n",
            "\n",
            "                                             content sentiment review_tone  \\\n",
            "0  Kalau pas lagi kerja atau istirahat selalu pes...  Positive   satisfied   \n",
            "1  Jadi kemarin aku nyobain ke sini dan ternyata ...  Positive   satisfied   \n",
            "2  Boba nya keras ga fress , boba nya beku dan es...  Negative   disgusted   \n",
            "3  sy dulu suka beli kopi kenangan karena ga bnya...   Neutral    disliked   \n",
            "4  Rasa kopi mantan enak. Tempat sepi. Pas utk me...   Neutral     neutral   \n",
            "\n",
            "                               tags  about_place  about_food  about_service  \n",
            "0                [minuman, rasanya]          0.0         1.0            0.0  \n",
            "1   [ parkiran, tempat, pelayanan ]          1.0         0.0            1.0  \n",
            "2       [minuman, pesanan, keluhan]          0.0         1.0            0.0  \n",
            "3  [tempat, pesanan, minuman, rasa]          1.0         1.0            0.0  \n",
            "4                ['tempat', 'rasa']          1.0         1.0            0.0  \n"
          ]
        }
      ]
    },
    {
      "cell_type": "code",
      "source": [
        "# Kolom yang ingin diisi dengan median\n",
        "column_to_impute = 'likes'\n",
        "# Mengganti nilai non-numerik dengan NaN\n",
        "df[column_to_impute] = pd.to_numeric(df[column_to_impute], errors='coerce')\n",
        "imputer = SimpleImputer(strategy='median')\n",
        "df[column_to_impute] = imputer.fit_transform(df[[column_to_impute]])\n",
        "print(df.head())"
      ],
      "metadata": {
        "colab": {
          "base_uri": "https://localhost:8080/"
        },
        "id": "TNIdoVhkmFz5",
        "outputId": "3dd00410-cd86-456d-f4a0-819476f90aa1"
      },
      "execution_count": 38,
      "outputs": [
        {
          "output_type": "stream",
          "name": "stdout",
          "text": [
            "  branch_id  review_id   branch         reviewer_name reviewer_gender  \\\n",
            "0      B001          1  Bandung  mEjiGOs2PtuNwnuzrOuX          female   \n",
            "1      B001          2  Bandung  mEjiMZMUZCWPvbqS47Ab          female   \n",
            "2      B001          3  Bandung  mEjikR2qTP3R8aW01nyd            male   \n",
            "3      B001          4  Bandung  mEjieTPzeFUFfKfvDNFj          female   \n",
            "4      B001          5  Bandung  mEjiQG2YXOSJleJawGX4          female   \n",
            "\n",
            "  review_date  review_counts     rating  likes  \\\n",
            "0  2022-08-07             83  5 bintang    1.0   \n",
            "1  2022-09-03            133  5 bintang    1.0   \n",
            "2  2019-10-20             24  1 bintang    1.0   \n",
            "3  2023-02-20             13  3 bintang    1.0   \n",
            "4  2022-02-12            294  5 bintang    1.0   \n",
            "\n",
            "                                             content sentiment review_tone  \\\n",
            "0  Kalau pas lagi kerja atau istirahat selalu pes...  Positive   satisfied   \n",
            "1  Jadi kemarin aku nyobain ke sini dan ternyata ...  Positive   satisfied   \n",
            "2  Boba nya keras ga fress , boba nya beku dan es...  Negative   disgusted   \n",
            "3  sy dulu suka beli kopi kenangan karena ga bnya...   Neutral    disliked   \n",
            "4  Rasa kopi mantan enak. Tempat sepi. Pas utk me...   Neutral     neutral   \n",
            "\n",
            "                               tags  about_place  about_food  about_service  \n",
            "0                [minuman, rasanya]          0.0         1.0            0.0  \n",
            "1   [ parkiran, tempat, pelayanan ]          1.0         0.0            1.0  \n",
            "2       [minuman, pesanan, keluhan]          0.0         1.0            0.0  \n",
            "3  [tempat, pesanan, minuman, rasa]          1.0         1.0            0.0  \n",
            "4                ['tempat', 'rasa']          1.0         1.0            0.0  \n"
          ]
        }
      ]
    },
    {
      "cell_type": "code",
      "source": [
        "# Kolom-kolom yang ingin diisi dengan modus\n",
        "columns_to_impute = ['rating', 'sentiment', 'review_tone', 'tags', 'content']\n",
        "imputer = SimpleImputer(strategy='most_frequent')\n",
        "df[columns_to_impute] = imputer.fit_transform(df[columns_to_impute])\n",
        "print(df.head())"
      ],
      "metadata": {
        "colab": {
          "base_uri": "https://localhost:8080/"
        },
        "id": "N7yEUt_foUDC",
        "outputId": "eae22ae3-84f5-48af-e337-ff4713f2f128"
      },
      "execution_count": 39,
      "outputs": [
        {
          "output_type": "stream",
          "name": "stdout",
          "text": [
            "  branch_id  review_id   branch         reviewer_name reviewer_gender  \\\n",
            "0      B001          1  Bandung  mEjiGOs2PtuNwnuzrOuX          female   \n",
            "1      B001          2  Bandung  mEjiMZMUZCWPvbqS47Ab          female   \n",
            "2      B001          3  Bandung  mEjikR2qTP3R8aW01nyd            male   \n",
            "3      B001          4  Bandung  mEjieTPzeFUFfKfvDNFj          female   \n",
            "4      B001          5  Bandung  mEjiQG2YXOSJleJawGX4          female   \n",
            "\n",
            "  review_date  review_counts     rating  likes  \\\n",
            "0  2022-08-07             83  5 bintang    1.0   \n",
            "1  2022-09-03            133  5 bintang    1.0   \n",
            "2  2019-10-20             24  1 bintang    1.0   \n",
            "3  2023-02-20             13  3 bintang    1.0   \n",
            "4  2022-02-12            294  5 bintang    1.0   \n",
            "\n",
            "                                             content sentiment review_tone  \\\n",
            "0  Kalau pas lagi kerja atau istirahat selalu pes...  Positive   satisfied   \n",
            "1  Jadi kemarin aku nyobain ke sini dan ternyata ...  Positive   satisfied   \n",
            "2  Boba nya keras ga fress , boba nya beku dan es...  Negative   disgusted   \n",
            "3  sy dulu suka beli kopi kenangan karena ga bnya...   Neutral    disliked   \n",
            "4  Rasa kopi mantan enak. Tempat sepi. Pas utk me...   Neutral     neutral   \n",
            "\n",
            "                               tags  about_place  about_food  about_service  \n",
            "0                [minuman, rasanya]          0.0         1.0            0.0  \n",
            "1   [ parkiran, tempat, pelayanan ]          1.0         0.0            1.0  \n",
            "2       [minuman, pesanan, keluhan]          0.0         1.0            0.0  \n",
            "3  [tempat, pesanan, minuman, rasa]          1.0         1.0            0.0  \n",
            "4                ['tempat', 'rasa']          1.0         1.0            0.0  \n"
          ]
        }
      ]
    },
    {
      "cell_type": "code",
      "source": [
        "#Cek Missing Values Setelah Preprocessing\n",
        "df.isna().sum()"
      ],
      "metadata": {
        "colab": {
          "base_uri": "https://localhost:8080/"
        },
        "id": "r3cPG-WMv5Ae",
        "outputId": "5b9bd8af-e3fd-42bd-cef5-8fbbddf0ff23"
      },
      "execution_count": 40,
      "outputs": [
        {
          "output_type": "execute_result",
          "data": {
            "text/plain": [
              "branch_id          0\n",
              "review_id          0\n",
              "branch             0\n",
              "reviewer_name      0\n",
              "reviewer_gender    0\n",
              "review_date        0\n",
              "review_counts      0\n",
              "rating             0\n",
              "likes              0\n",
              "content            0\n",
              "sentiment          0\n",
              "review_tone        0\n",
              "tags               0\n",
              "about_place        0\n",
              "about_food         0\n",
              "about_service      0\n",
              "dtype: int64"
            ]
          },
          "metadata": {},
          "execution_count": 40
        }
      ]
    },
    {
      "cell_type": "markdown",
      "source": [
        "### Data Cleaning"
      ],
      "metadata": {
        "id": "IRUd5urLimQE"
      }
    },
    {
      "cell_type": "markdown",
      "source": [
        "KOLOM rating"
      ],
      "metadata": {
        "id": "gBSI4Q7Oi0gc"
      }
    },
    {
      "cell_type": "code",
      "source": [
        "df['rating']"
      ],
      "metadata": {
        "colab": {
          "base_uri": "https://localhost:8080/"
        },
        "id": "91Um5lx2i6rS",
        "outputId": "6dbd01a0-c984-43f6-919e-c93f6eba1d79"
      },
      "execution_count": 42,
      "outputs": [
        {
          "output_type": "execute_result",
          "data": {
            "text/plain": [
              "0       5 bintang\n",
              "1       5 bintang\n",
              "2       1 bintang\n",
              "3       3 bintang\n",
              "4       5 bintang\n",
              "          ...    \n",
              "1586    5 bintang\n",
              "1587    5 bintang\n",
              "1588    4 bintang\n",
              "1589    5 bintang\n",
              "1590    5 bintang\n",
              "Name: rating, Length: 1591, dtype: object"
            ]
          },
          "metadata": {},
          "execution_count": 42
        }
      ]
    },
    {
      "cell_type": "code",
      "source": [
        "# See unique values of this column\n",
        "print(set(df['rating']))\n",
        "\n",
        "# or\n",
        "print(df['rating'].unique())"
      ],
      "metadata": {
        "colab": {
          "base_uri": "https://localhost:8080/"
        },
        "id": "d925X57AjRLl",
        "outputId": "9a0dbcf7-621d-4341-b410-022ff00d47dc"
      },
      "execution_count": 43,
      "outputs": [
        {
          "output_type": "stream",
          "name": "stdout",
          "text": [
            "{'5 bintang', '1 bintang', '2 bintang', '3 bintang', '4 bintang'}\n",
            "['5 bintang' '1 bintang' '3 bintang' '4 bintang' '2 bintang']\n"
          ]
        }
      ]
    },
    {
      "cell_type": "code",
      "source": [
        "# Function untuk memproses kolom rating\n",
        "def rating_process(data):\n",
        "    return int(data[0])"
      ],
      "metadata": {
        "id": "ypJc95rPjgC3"
      },
      "execution_count": 44,
      "outputs": []
    },
    {
      "cell_type": "code",
      "source": [
        "# Example\n",
        "x = df['rating'][0]\n",
        "y = rating_process(x)\n",
        "\n",
        "print(f'Sebelum pemrosesan: {x}, dtype: {type(x)}')\n",
        "print(f'Sesudah pemrosesan: {y}, dtype: {type(y)}')"
      ],
      "metadata": {
        "colab": {
          "base_uri": "https://localhost:8080/"
        },
        "id": "hXJDA1gijhLG",
        "outputId": "114b6516-638a-458f-d469-3f092e16a345"
      },
      "execution_count": 45,
      "outputs": [
        {
          "output_type": "stream",
          "name": "stdout",
          "text": [
            "Sebelum pemrosesan: 5 bintang, dtype: <class 'str'>\n",
            "Sesudah pemrosesan: 5, dtype: <class 'int'>\n"
          ]
        }
      ]
    },
    {
      "cell_type": "code",
      "source": [
        "# Apply to whole column\n",
        "df['rating'] = df['rating'].apply(rating_process)\n",
        "df['rating']"
      ],
      "metadata": {
        "colab": {
          "base_uri": "https://localhost:8080/"
        },
        "id": "DHMtLbUQjjsr",
        "outputId": "94f42131-0119-4f49-f484-a1e2540d8c46"
      },
      "execution_count": 46,
      "outputs": [
        {
          "output_type": "execute_result",
          "data": {
            "text/plain": [
              "0       5\n",
              "1       5\n",
              "2       1\n",
              "3       3\n",
              "4       5\n",
              "       ..\n",
              "1586    5\n",
              "1587    5\n",
              "1588    4\n",
              "1589    5\n",
              "1590    5\n",
              "Name: rating, Length: 1591, dtype: int64"
            ]
          },
          "metadata": {},
          "execution_count": 46
        }
      ]
    },
    {
      "cell_type": "markdown",
      "source": [
        "KOLOM review_tone"
      ],
      "metadata": {
        "id": "D9VRWQbfjoTS"
      }
    },
    {
      "cell_type": "code",
      "source": [
        "set(df['review_tone'])"
      ],
      "metadata": {
        "colab": {
          "base_uri": "https://localhost:8080/"
        },
        "id": "YEhxrboOjq8T",
        "outputId": "570ee58a-dd99-47ed-f01b-70fd1b31102f"
      },
      "execution_count": 47,
      "outputs": [
        {
          "output_type": "execute_result",
          "data": {
            "text/plain": [
              "{'Disgusted',\n",
              " 'Enjoyed',\n",
              " 'Happy',\n",
              " 'Happy.',\n",
              " 'Neutral',\n",
              " 'Question',\n",
              " 'Satisfied',\n",
              " 'Unsatisfied',\n",
              " 'delighted',\n",
              " 'disgusted',\n",
              " 'disgusted.',\n",
              " 'disliked',\n",
              " 'enjoyed',\n",
              " 'fear',\n",
              " 'happy',\n",
              " 'neutral',\n",
              " 'neutral.',\n",
              " 'sad',\n",
              " 'satisfied',\n",
              " 'unhappy',\n",
              " 'unsatisfied',\n",
              " 'unsatisfied.'}"
            ]
          },
          "metadata": {},
          "execution_count": 47
        }
      ]
    },
    {
      "cell_type": "code",
      "source": [
        "#Menghilangkan titik\n",
        "df['review_tone'] = df['review_tone'].str.replace('.', '')"
      ],
      "metadata": {
        "id": "LMcPduNmj2gq"
      },
      "execution_count": 48,
      "outputs": []
    },
    {
      "cell_type": "code",
      "source": [
        "# Create the function\n",
        "def tone_process(data):\n",
        "    try:\n",
        "        # TODO: write program to clean \"review_tone\" column\n",
        "        # Step 1: Remove leading and trailing whitespace\n",
        "        data = review_tone.strip()\n",
        "\n",
        "        # Step 2: Remove punctuation. In this case, period \".\"\n",
        "        data = data.review_tone(\".\",\"\")\n",
        "\n",
        "        # Optional\n",
        "        data = data.title()\n",
        "\n",
        "        # Return the cleaned data\n",
        "        return review_tone\n",
        "    except:\n",
        "        return data"
      ],
      "metadata": {
        "id": "vGksJM-jj5Fs"
      },
      "execution_count": 49,
      "outputs": []
    },
    {
      "cell_type": "code",
      "source": [
        "#TODO: Apply the function to the column\n",
        "df['review_tone'] = df['review_tone'].str.title()"
      ],
      "metadata": {
        "id": "r0pGylvXkseK"
      },
      "execution_count": 50,
      "outputs": []
    },
    {
      "cell_type": "code",
      "source": [
        "set(df['review_tone'])"
      ],
      "metadata": {
        "colab": {
          "base_uri": "https://localhost:8080/"
        },
        "id": "Pp69S3V1mMxg",
        "outputId": "7c348ecb-3921-488d-a9e2-427d84a766e1"
      },
      "execution_count": 51,
      "outputs": [
        {
          "output_type": "execute_result",
          "data": {
            "text/plain": [
              "{'Delighted',\n",
              " 'Disgusted',\n",
              " 'Disliked',\n",
              " 'Enjoyed',\n",
              " 'Fear',\n",
              " 'Happy',\n",
              " 'Neutral',\n",
              " 'Question',\n",
              " 'Sad',\n",
              " 'Satisfied',\n",
              " 'Unhappy',\n",
              " 'Unsatisfied'}"
            ]
          },
          "metadata": {},
          "execution_count": 51
        }
      ]
    },
    {
      "cell_type": "markdown",
      "source": [
        "###OUTPUT"
      ],
      "metadata": {
        "id": "1ik3H4iFzpFv"
      }
    },
    {
      "cell_type": "code",
      "source": [
        "output_file = 'Customer Reviews.xlsx'\n",
        "df.to_excel(output_file, index=False)\n",
        "\n",
        "# Unduh file Excel\n",
        "files.download(output_file)"
      ],
      "metadata": {
        "id": "z9lpVSccnsIf",
        "colab": {
          "base_uri": "https://localhost:8080/",
          "height": 17
        },
        "outputId": "a4e0aee2-40e0-42a7-ddc3-a1d40596ae67"
      },
      "execution_count": null,
      "outputs": [
        {
          "output_type": "display_data",
          "data": {
            "text/plain": [
              "<IPython.core.display.Javascript object>"
            ],
            "application/javascript": [
              "\n",
              "    async function download(id, filename, size) {\n",
              "      if (!google.colab.kernel.accessAllowed) {\n",
              "        return;\n",
              "      }\n",
              "      const div = document.createElement('div');\n",
              "      const label = document.createElement('label');\n",
              "      label.textContent = `Downloading \"${filename}\": `;\n",
              "      div.appendChild(label);\n",
              "      const progress = document.createElement('progress');\n",
              "      progress.max = size;\n",
              "      div.appendChild(progress);\n",
              "      document.body.appendChild(div);\n",
              "\n",
              "      const buffers = [];\n",
              "      let downloaded = 0;\n",
              "\n",
              "      const channel = await google.colab.kernel.comms.open(id);\n",
              "      // Send a message to notify the kernel that we're ready.\n",
              "      channel.send({})\n",
              "\n",
              "      for await (const message of channel.messages) {\n",
              "        // Send a message to notify the kernel that we're ready.\n",
              "        channel.send({})\n",
              "        if (message.buffers) {\n",
              "          for (const buffer of message.buffers) {\n",
              "            buffers.push(buffer);\n",
              "            downloaded += buffer.byteLength;\n",
              "            progress.value = downloaded;\n",
              "          }\n",
              "        }\n",
              "      }\n",
              "      const blob = new Blob(buffers, {type: 'application/binary'});\n",
              "      const a = document.createElement('a');\n",
              "      a.href = window.URL.createObjectURL(blob);\n",
              "      a.download = filename;\n",
              "      div.appendChild(a);\n",
              "      a.click();\n",
              "      div.remove();\n",
              "    }\n",
              "  "
            ]
          },
          "metadata": {}
        },
        {
          "output_type": "display_data",
          "data": {
            "text/plain": [
              "<IPython.core.display.Javascript object>"
            ],
            "application/javascript": [
              "download(\"download_9dda12ab-56ae-4dba-a034-4ac7addebef2\", \"Customer Reviews.xlsx\", 124930)"
            ]
          },
          "metadata": {}
        }
      ]
    }
  ]
}